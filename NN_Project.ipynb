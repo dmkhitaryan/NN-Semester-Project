{
  "nbformat": 4,
  "nbformat_minor": 0,
  "metadata": {
    "colab": {
      "name": "NN Project.ipynb",
      "provenance": [],
      "collapsed_sections": [],
      "include_colab_link": true
    },
    "kernelspec": {
      "display_name": "Python 3",
      "name": "python3"
    },
    "language_info": {
      "name": "python"
    }
  },
  "cells": [
    {
      "cell_type": "markdown",
      "metadata": {
        "id": "view-in-github",
        "colab_type": "text"
      },
      "source": [
        "<a href=\"https://colab.research.google.com/github/davemkhitaryan/NN-Semester-Project/blob/main/NN_Project.ipynb\" target=\"_parent\"><img src=\"https://colab.research.google.com/assets/colab-badge.svg\" alt=\"Open In Colab\"/></a>"
      ]
    },
    {
      "cell_type": "markdown",
      "metadata": {
        "id": "pSmQuKhl-ukD"
      },
      "source": [
        "# Prerequisites"
      ]
    },
    {
      "cell_type": "code",
      "metadata": {
        "id": "AlCcdGMqan70",
        "colab": {
          "base_uri": "https://localhost:8080/"
        },
        "outputId": "c588964f-8bf9-495d-eaaf-20b6dd8fb307"
      },
      "source": [
        "pip install tensorflow"
      ],
      "execution_count": 1,
      "outputs": [
        {
          "output_type": "stream",
          "text": [
            "Requirement already satisfied: tensorflow in /usr/local/lib/python3.7/dist-packages (2.5.0)\n",
            "Requirement already satisfied: keras-preprocessing~=1.1.2 in /usr/local/lib/python3.7/dist-packages (from tensorflow) (1.1.2)\n",
            "Requirement already satisfied: six~=1.15.0 in /usr/local/lib/python3.7/dist-packages (from tensorflow) (1.15.0)\n",
            "Requirement already satisfied: typing-extensions~=3.7.4 in /usr/local/lib/python3.7/dist-packages (from tensorflow) (3.7.4.3)\n",
            "Requirement already satisfied: grpcio~=1.34.0 in /usr/local/lib/python3.7/dist-packages (from tensorflow) (1.34.1)\n",
            "Requirement already satisfied: opt-einsum~=3.3.0 in /usr/local/lib/python3.7/dist-packages (from tensorflow) (3.3.0)\n",
            "Requirement already satisfied: keras-nightly~=2.5.0.dev in /usr/local/lib/python3.7/dist-packages (from tensorflow) (2.5.0.dev2021032900)\n",
            "Requirement already satisfied: astunparse~=1.6.3 in /usr/local/lib/python3.7/dist-packages (from tensorflow) (1.6.3)\n",
            "Requirement already satisfied: termcolor~=1.1.0 in /usr/local/lib/python3.7/dist-packages (from tensorflow) (1.1.0)\n",
            "Requirement already satisfied: tensorflow-estimator<2.6.0,>=2.5.0rc0 in /usr/local/lib/python3.7/dist-packages (from tensorflow) (2.5.0)\n",
            "Requirement already satisfied: google-pasta~=0.2 in /usr/local/lib/python3.7/dist-packages (from tensorflow) (0.2.0)\n",
            "Requirement already satisfied: flatbuffers~=1.12.0 in /usr/local/lib/python3.7/dist-packages (from tensorflow) (1.12)\n",
            "Requirement already satisfied: wrapt~=1.12.1 in /usr/local/lib/python3.7/dist-packages (from tensorflow) (1.12.1)\n",
            "Requirement already satisfied: gast==0.4.0 in /usr/local/lib/python3.7/dist-packages (from tensorflow) (0.4.0)\n",
            "Requirement already satisfied: tensorboard~=2.5 in /usr/local/lib/python3.7/dist-packages (from tensorflow) (2.5.0)\n",
            "Requirement already satisfied: absl-py~=0.10 in /usr/local/lib/python3.7/dist-packages (from tensorflow) (0.12.0)\n",
            "Requirement already satisfied: numpy~=1.19.2 in /usr/local/lib/python3.7/dist-packages (from tensorflow) (1.19.5)\n",
            "Requirement already satisfied: protobuf>=3.9.2 in /usr/local/lib/python3.7/dist-packages (from tensorflow) (3.12.4)\n",
            "Requirement already satisfied: wheel~=0.35 in /usr/local/lib/python3.7/dist-packages (from tensorflow) (0.36.2)\n",
            "Requirement already satisfied: h5py~=3.1.0 in /usr/local/lib/python3.7/dist-packages (from tensorflow) (3.1.0)\n",
            "Requirement already satisfied: google-auth-oauthlib<0.5,>=0.4.1 in /usr/local/lib/python3.7/dist-packages (from tensorboard~=2.5->tensorflow) (0.4.4)\n",
            "Requirement already satisfied: tensorboard-plugin-wit>=1.6.0 in /usr/local/lib/python3.7/dist-packages (from tensorboard~=2.5->tensorflow) (1.8.0)\n",
            "Requirement already satisfied: setuptools>=41.0.0 in /usr/local/lib/python3.7/dist-packages (from tensorboard~=2.5->tensorflow) (57.0.0)\n",
            "Requirement already satisfied: requests<3,>=2.21.0 in /usr/local/lib/python3.7/dist-packages (from tensorboard~=2.5->tensorflow) (2.23.0)\n",
            "Requirement already satisfied: werkzeug>=0.11.15 in /usr/local/lib/python3.7/dist-packages (from tensorboard~=2.5->tensorflow) (1.0.1)\n",
            "Requirement already satisfied: tensorboard-data-server<0.7.0,>=0.6.0 in /usr/local/lib/python3.7/dist-packages (from tensorboard~=2.5->tensorflow) (0.6.1)\n",
            "Requirement already satisfied: markdown>=2.6.8 in /usr/local/lib/python3.7/dist-packages (from tensorboard~=2.5->tensorflow) (3.3.4)\n",
            "Requirement already satisfied: google-auth<2,>=1.6.3 in /usr/local/lib/python3.7/dist-packages (from tensorboard~=2.5->tensorflow) (1.31.0)\n",
            "Requirement already satisfied: cached-property; python_version < \"3.8\" in /usr/local/lib/python3.7/dist-packages (from h5py~=3.1.0->tensorflow) (1.5.2)\n",
            "Requirement already satisfied: requests-oauthlib>=0.7.0 in /usr/local/lib/python3.7/dist-packages (from google-auth-oauthlib<0.5,>=0.4.1->tensorboard~=2.5->tensorflow) (1.3.0)\n",
            "Requirement already satisfied: chardet<4,>=3.0.2 in /usr/local/lib/python3.7/dist-packages (from requests<3,>=2.21.0->tensorboard~=2.5->tensorflow) (3.0.4)\n",
            "Requirement already satisfied: idna<3,>=2.5 in /usr/local/lib/python3.7/dist-packages (from requests<3,>=2.21.0->tensorboard~=2.5->tensorflow) (2.10)\n",
            "Requirement already satisfied: certifi>=2017.4.17 in /usr/local/lib/python3.7/dist-packages (from requests<3,>=2.21.0->tensorboard~=2.5->tensorflow) (2021.5.30)\n",
            "Requirement already satisfied: urllib3!=1.25.0,!=1.25.1,<1.26,>=1.21.1 in /usr/local/lib/python3.7/dist-packages (from requests<3,>=2.21.0->tensorboard~=2.5->tensorflow) (1.24.3)\n",
            "Requirement already satisfied: importlib-metadata; python_version < \"3.8\" in /usr/local/lib/python3.7/dist-packages (from markdown>=2.6.8->tensorboard~=2.5->tensorflow) (4.5.0)\n",
            "Requirement already satisfied: cachetools<5.0,>=2.0.0 in /usr/local/lib/python3.7/dist-packages (from google-auth<2,>=1.6.3->tensorboard~=2.5->tensorflow) (4.2.2)\n",
            "Requirement already satisfied: rsa<5,>=3.1.4; python_version >= \"3.6\" in /usr/local/lib/python3.7/dist-packages (from google-auth<2,>=1.6.3->tensorboard~=2.5->tensorflow) (4.7.2)\n",
            "Requirement already satisfied: pyasn1-modules>=0.2.1 in /usr/local/lib/python3.7/dist-packages (from google-auth<2,>=1.6.3->tensorboard~=2.5->tensorflow) (0.2.8)\n",
            "Requirement already satisfied: oauthlib>=3.0.0 in /usr/local/lib/python3.7/dist-packages (from requests-oauthlib>=0.7.0->google-auth-oauthlib<0.5,>=0.4.1->tensorboard~=2.5->tensorflow) (3.1.1)\n",
            "Requirement already satisfied: zipp>=0.5 in /usr/local/lib/python3.7/dist-packages (from importlib-metadata; python_version < \"3.8\"->markdown>=2.6.8->tensorboard~=2.5->tensorflow) (3.4.1)\n",
            "Requirement already satisfied: pyasn1>=0.1.3 in /usr/local/lib/python3.7/dist-packages (from rsa<5,>=3.1.4; python_version >= \"3.6\"->google-auth<2,>=1.6.3->tensorboard~=2.5->tensorflow) (0.4.8)\n"
          ],
          "name": "stdout"
        }
      ]
    },
    {
      "cell_type": "code",
      "metadata": {
        "id": "CRk7ia3Rjz-d"
      },
      "source": [
        "import random\n",
        "import numpy as np\n",
        "import tensorflow as tf\n",
        "from numpy import array\n",
        "import keras\n",
        "from keras.models import Sequential\n",
        "from keras.layers import Dense\n",
        "from matplotlib import pyplot\n",
        "from keras.utils.vis_utils import plot_model"
      ],
      "execution_count": 2,
      "outputs": []
    },
    {
      "cell_type": "code",
      "metadata": {
        "id": "Tb1o8ubiG3vz"
      },
      "source": [
        "#@test {\"output\": \"ignore\"}\n",
        "print('Installing dependencies...')\n",
        "!apt-get update -qq && apt-get install -qq libfluidsynth1 fluid-soundfont-gm build-essential libasound2-dev libjack-dev\n",
        "!pip install -qU pyfluidsynth pretty_midi\n",
        "\n",
        "!pip install -qU magenta\n",
        "\n",
        "# Hack to allow python to pick up the newly-installed fluidsynth lib. \n",
        "# This is only needed for the hosted Colab environment.\n",
        "import ctypes.util\n",
        "orig_ctypes_util_find_library = ctypes.util.find_library\n",
        "def proxy_find_library(lib):\n",
        "  if lib == 'fluidsynth':\n",
        "    return 'libfluidsynth.so.1'\n",
        "  else:\n",
        "    return orig_ctypes_util_find_library(lib)\n",
        "ctypes.util.find_library = proxy_find_library\n",
        "\n",
        "print('Importing libraries and defining some helper functions...')\n",
        "from google.colab import files\n",
        "\n",
        "import magenta\n",
        "import note_seq\n",
        "import tensorflow\n",
        "\n",
        "print('🎉 Done!')\n",
        "print(magenta.__version__)\n",
        "print(tensorflow.__version__)"
      ],
      "execution_count": null,
      "outputs": []
    },
    {
      "cell_type": "markdown",
      "metadata": {
        "id": "bTc_7d3F_VMZ"
      },
      "source": [
        "# The Training and Testing Data\n",
        "In the cells below we create the training and testing data. Including dividing the songs into both categories."
      ]
    },
    {
      "cell_type": "code",
      "metadata": {
        "id": "2LBuRbYTtxxY"
      },
      "source": [
        "#generate simplified version\n",
        "def simplify_song(song):\n",
        "  simplified_song = []\n",
        "  for i in range(len(song)):\n",
        "    #bar = []\n",
        "    for j in range(8):\n",
        "      if song[i][j] == 2:\n",
        "        #bar.append(1)\n",
        "        simplified_song.append(1)\n",
        "      else:\n",
        "        #bar.append(0)\n",
        "        simplified_song.append(0)\n",
        "\n",
        "    #simplified_song.append(bar)\n",
        "  return simplified_song  \n"
      ],
      "execution_count": 4,
      "outputs": []
    },
    {
      "cell_type": "code",
      "metadata": {
        "id": "Q5aIaexKc47P"
      },
      "source": [
        "#Chorus of Under Pressure by Queen\n",
        "#We also took the kick/bass drum here\n",
        "queen_under_pressure = []\n",
        "\n",
        "queen_under_pressure.append([2,2,2,2,2,2,2,2])#28\n",
        "queen_under_pressure.append([2,2,2,2,2,2,2,2])\n",
        "queen_under_pressure.append([2,2,2,2,2,2,2,2])\n",
        "queen_under_pressure.append([2,2,2,2,2,2,2,2])\n",
        "queen_under_pressure.append([2,2,2,2,2,2,2,2])\n",
        "queen_under_pressure.append([2,2,2,2,2,2,0,2])\n",
        "queen_under_pressure.append([2,0,0,0,0,0,0,0])\n",
        "queen_under_pressure.append([2,1,1,2,0,0,0,0])\n",
        "\n",
        "print(queen_under_pressure)\n",
        "\n",
        "queen_up_simplified = simplify_song(queen_under_pressure)\n",
        "queen_up_simplified = np.array(queen_up_simplified)\n",
        "print(queen_up_simplified)\n",
        "file = open('training_data/queen_up.txt', 'w')\n",
        "file.write(str(queen_up_simplified))\n",
        "file.close()"
      ],
      "execution_count": null,
      "outputs": []
    },
    {
      "cell_type": "code",
      "metadata": {
        "id": "VE2lte-I1pEm"
      },
      "source": [
        "\n",
        "#8 eight-notes in one bar\n",
        "# 2 means the note is hit, 1 means it's still playing (to represent half and quart notes), 0 means nothing is played\n",
        "#we represent this by the kick/bass drum\n",
        "#Chorus of Bon jovi it's my life\n",
        "bon_jovi__its_my_life = []\n",
        "\n",
        "#chorus\n",
        "bon_jovi__its_my_life.append([2,0,0,0,2,0,0,0])\n",
        "bon_jovi__its_my_life.append([2,0,0,0,2,0,0,0])\n",
        "bon_jovi__its_my_life.append([2,0,0,0,2,0,0,0])\n",
        "bon_jovi__its_my_life.append([2,0,0,0,2,0,0,0])\n",
        "bon_jovi__its_my_life.append([2,0,0,0,2,0,0,0])\n",
        "bon_jovi__its_my_life.append([2,0,0,0,2,2,0,0])\n",
        "bon_jovi__its_my_life.append([2,0,0,0,2,0,0,0])\n",
        "bon_jovi__its_my_life.append([2,0,0,0,2,2,0,0])\n",
        "bon_jovi__its_my_life.append([2,0,0,0,2,0,0,0])\n",
        "bon_jovi__its_my_life.append([2,0,0,0,2,0,0,0])\n",
        "bon_jovi__its_my_life.append([2,0,0,0,2,0,0,0])\n",
        "bon_jovi__its_my_life.append([2,0,0,0,2,0,0,0])\n",
        "bon_jovi__its_my_life.append([2,0,0,0,2,0,0,0])\n",
        "bon_jovi__its_my_life.append([2,0,0,0,2,2,0,0])\n",
        "bon_jovi__its_my_life.append([2,0,0,0,2,0,0,0])\n",
        "bon_jovi__its_my_life.append([2,0,0,0,2,2,0,0])\n",
        "\n",
        "print(bon_jovi__its_my_life)\n",
        "\n",
        "bj_iml_updated = simplify_song(bon_jovi__its_my_life)\n",
        "bj_iml_updated = np.array(bj_iml_updated)\n",
        "print(bj_iml_updated)\n",
        "file = open('training_data/bj_iml.txt', 'w')\n",
        "file.write(str(bj_iml_updated))\n",
        "file.close()"
      ],
      "execution_count": null,
      "outputs": []
    },
    {
      "cell_type": "code",
      "metadata": {
        "id": "-KSmkYFLETx6"
      },
      "source": [
        "#Chorus of eye of the tiger by survivor\n",
        "survivor_eyeofthetiger = []\n",
        "survivor_eyeofthetiger.append([2,0,2,0,2,0,2,0])\n",
        "survivor_eyeofthetiger.append([2,0,2,0,2,0,2,0])\n",
        "survivor_eyeofthetiger.append([2,0,2,0,2,0,2,0])\n",
        "survivor_eyeofthetiger.append([2,0,2,0,2,0,2,0])\n",
        "survivor_eyeofthetiger.append([2,0,2,0,2,0,2,0])\n",
        "survivor_eyeofthetiger.append([2,0,2,0,2,0,2,0])\n",
        "survivor_eyeofthetiger.append([2,0,2,0,2,0,2,0])\n",
        "survivor_eyeofthetiger.append([1,0,1,0,2,1,0,0])\n",
        "survivor_eyeofthetiger.append([2,1,2,1,2,1,2,1])\n",
        "survivor_eyeofthetiger.append([2,1,2,1,2,1,2,0])\n",
        "survivor_eyeofthetiger.append([2,0,2,0,2,0,2,0])\n",
        "survivor_eyeofthetiger.append([2,0,2,0,2,0,2,0])\n",
        "\n",
        "eyeofthetiger_simplified = simplify_song(survivor_eyeofthetiger)\n",
        "eyeofthetiger_simplified = np.array(eyeofthetiger_simplified)\n",
        "print(eyeofthetiger_simplified)\n",
        "file = open('training_data/survivor_eott.txt', 'w')\n",
        "file.write(str(eyeofthetiger_simplified))\n",
        "file.close()"
      ],
      "execution_count": null,
      "outputs": []
    },
    {
      "cell_type": "code",
      "metadata": {
        "id": "odejJcTm7j1x"
      },
      "source": [
        "#Chorus of R U Mine? by arctic monkeys\n",
        "arctic_rumine = []\n",
        "arctic_rumine.append([2,2,0,2,0,2,0,2])\n",
        "arctic_rumine.append([2,2,0,2,0,2,0,2])\n",
        "arctic_rumine.append([2,0,2,2,2,2,0,2])\n",
        "arctic_rumine.append([0,2,0,2,2,2,0,0])\n",
        "arctic_rumine.append([2,0,2,0,0,0,0,0])\n",
        "arctic_rumine.append([2,2,0,2,0,2,0,2])\n",
        "arctic_rumine.append([2,2,0,2,0,2,0,2])\n",
        "arctic_rumine.append([2,2,0,2,0,2,0,2])\n",
        "arctic_rumine.append([2,2,0,2,0,2,0,2])\n",
        "arctic_rumine.append([2,2,0,0,0,0,0,0])\n",
        "arctic_rumine.append([2,2,0,2,0,2,0,2])\n",
        "arctic_rumine.append([2,2,0,2,0,0,0,0])\n",
        "arctic_rumine.append([2,2,0,2,0,2,0,2])\n",
        "arctic_rumine.append([2,2,0,2,1,1,2,0])\n",
        "\n",
        "arctic_rumine_simplified = simplify_song(arctic_rumine)\n",
        "arctic_rumine_simplified = np.array(arctic_rumine_simplified)\n",
        "file = open('training_data/arctic_rumine.txt', 'w')\n",
        "file.write(str(arctic_rumine_simplified))\n",
        "file.close()"
      ],
      "execution_count": 10,
      "outputs": []
    },
    {
      "cell_type": "code",
      "metadata": {
        "id": "a-IZufQdEn2F"
      },
      "source": [
        "#Chorus of the take over, the breaks over by fall out boy\n",
        "fob_takeover_breaksover = []\n",
        "fob_takeover_breaksover.append([2,1,0,2,0,2,0,0])\n",
        "fob_takeover_breaksover.append([2,2,0,0,2,1,0,0])\n",
        "fob_takeover_breaksover.append([2,1,0,2,0,2,0,0])\n",
        "fob_takeover_breaksover.append([2,2,0,0,0,0,0,0])\n",
        "\n",
        "fob_takeover_breaksover.append([2,1,0,2,0,2,0,0])\n",
        "fob_takeover_breaksover.append([2,2,0,0,2,1,0,0])\n",
        "fob_takeover_breaksover.append([2,1,0,2,0,2,0,0])\n",
        "fob_takeover_breaksover.append([2,2,0,2,0,0,0,2])\n",
        "\n",
        "fob_takeover_breaksover.append([2,0,0,2,0,2,0,2])\n",
        "fob_takeover_breaksover.append([2,2,0,2,2,0,2,1])\n",
        "fob_takeover_breaksover.append([2,0,0,2,0,2,0,2])\n",
        "fob_takeover_breaksover.append([2,2,0,2,0,0,0,0])\n",
        "fob_takeover_breaksover.append([0,2,0,2,2,1,0,0])\n",
        "\n",
        "fob_takeover_breaksover_simplified = simplify_song(fob_takeover_breaksover)\n",
        "fob_takeover_breaksover_simplified = np.array(fob_takeover_breaksover_simplified)\n",
        "file = open('training_data/fob_totbo.txt', 'w')\n",
        "file.write(str(fob_takeover_breaksover_simplified))\n",
        "file.close()"
      ],
      "execution_count": 11,
      "outputs": []
    },
    {
      "cell_type": "code",
      "metadata": {
        "id": "wVisQPIbGCwm"
      },
      "source": [
        "#Chorus of this is how you remind me by Nickelback\n",
        "nickelback_tihyrm = []\n",
        "nickelback_tihyrm.append([2,1,0,0,2,2,0,0])\n",
        "nickelback_tihyrm.append([2,1,0,0,2,2,0,0])\n",
        "nickelback_tihyrm.append([2,1,0,0,2,2,0,0])\n",
        "nickelback_tihyrm.append([2,1,0,0,2,2,0,0])\n",
        "\n",
        "nickelback_tihyrm.append([2,2,0,0,2,2,0,0])\n",
        "nickelback_tihyrm.append([2,1,0,0,2,2,0,0])\n",
        "nickelback_tihyrm.append([2,1,0,0,2,2,0,0])\n",
        "nickelback_tihyrm.append([2,0,2,0,2,2,0,2])\n",
        "\n",
        "nickelback_tihyrm.append([2,1,0,0,2,2,0,0])\n",
        "nickelback_tihyrm.append([2,1,0,0,2,2,0,2])\n",
        "nickelback_tihyrm.append([2,1,0,0,2,2,0,0])\n",
        "nickelback_tihyrm.append([2,2,0,0,2,2,2,2]) #this one was difficult to translate\n",
        "\n",
        "nickelback_tihyrm_simplified = simplify_song(nickelback_tihyrm)\n",
        "nickelback_tihyrm_simplified = np.array(nickelback_tihyrm_simplified)\n",
        "file = open('training_data/nickelback_tihyrm.txt', 'w')\n",
        "file.write(str(nickelback_tihyrm_simplified))\n",
        "file.close()"
      ],
      "execution_count": 12,
      "outputs": []
    },
    {
      "cell_type": "code",
      "metadata": {
        "id": "_XxbBmlDoJDq"
      },
      "source": [
        "# chorus of Mr. Brightside by The Killers\n",
        "killers_brightside = []\n",
        "killers_brightside.append([2,0,0,0,2,0,0,2])\n",
        "killers_brightside.append([2,0,0,0,2,0,0,0])\n",
        "killers_brightside.append([2,0,0,0,2,0,0,0])\n",
        "killers_brightside.append([2,0,0,0,2,0,0,2])\n",
        "killers_brightside.append([2,0,0,0,2,0,0,0])\n",
        "killers_brightside.append([2,0,0,0,2,0,0,0])\n",
        "killers_brightside.append([2,0,0,0,2,0,0,2])\n",
        "killers_brightside.append([2,0,0,0,2,0,0,2])\n",
        "# repeat once\n",
        "killers_brightside.append([2,0,0,0,2,0,0,2])\n",
        "killers_brightside.append([2,0,0,0,2,0,0,0])\n",
        "killers_brightside.append([2,0,0,0,2,0,0,0])\n",
        "killers_brightside.append([2,0,0,0,2,0,0,2])\n",
        "killers_brightside.append([2,0,0,0,2,0,0,0])\n",
        "killers_brightside.append([2,0,0,0,2,0,0,0])\n",
        "killers_brightside.append([2,0,0,0,2,0,0,2])\n",
        "killers_brightside.append([2,0,0,0,2,0,0,2])\n",
        "\n",
        "brightside_simplified = simplify_song(killers_brightside)\n",
        "brightside_simplified = np.array(brightside_simplified)\n",
        "file = open('training_data/killers_brighside.txt', 'w')\n",
        "file.write(str(brightside_simplified))\n",
        "file.close()"
      ],
      "execution_count": 13,
      "outputs": []
    },
    {
      "cell_type": "code",
      "metadata": {
        "id": "zrHOn8jIox-y"
      },
      "source": [
        "# Chorus of Summer of 69 by Bryan Adams\n",
        "brian_adams_summer_69 = []\n",
        "brian_adams_summer_69.append([2,0,0,0,0,0,0,2])\n",
        "brian_adams_summer_69.append([2,0,0,0,2,0,0,2])\n",
        "brian_adams_summer_69.append([2,0,0,0,0,0,0,2])\n",
        "brian_adams_summer_69.append([2,0,0,0,2,0,0,2])\n",
        "brian_adams_summer_69.append([2,0,0,0,0,0,0,2])\n",
        "brian_adams_summer_69.append([2,0,0,0,2,0,0,2])\n",
        "brian_adams_summer_69.append([2,0,0,0,0,0,0,2])\n",
        "brian_adams_summer_69.append([2,0,0,0,2,0,0,2])\n",
        "brian_adams_summer_69.append([2,0,0,0,0,0,0,2])\n",
        "brian_adams_summer_69.append([2,0,0,0,2,0,0,2])\n",
        "\n",
        "brian_adams_summer_69.append([2,0,0,0,0,0,0,2])\n",
        "brian_adams_summer_69.append([2,0,0,0,2,0,0,0])\n",
        "brian_adams_summer_69.append([2,0,0,0,0,0,0,2])\n",
        "brian_adams_summer_69.append([2,1,0,0,0,0,0,0])\n",
        "\n",
        "brian_adams_summer_69.append([2,0,0,0,2,0,0,0])\n",
        "brian_adams_summer_69.append([2,0,0,0,2,2,0,0])\n",
        "brian_adams_summer_69.append([2,0,0,0,2,0,0,0])\n",
        "brian_adams_summer_69.append([2,0,2,0,2,0,2,0])\n",
        "\n",
        "summer_69_simplified = simplify_song(brian_adams_summer_69)\n",
        "summer_69_simplified = np.array(summer_69_simplified)\n",
        "print(summer_69_simplified)\n",
        "file = open('training_data/ba_s69.txt', 'w')\n",
        "file.write(str(summer_69_simplified))\n",
        "file.close()"
      ],
      "execution_count": null,
      "outputs": []
    },
    {
      "cell_type": "code",
      "metadata": {
        "id": "NqpiG2m3qPor"
      },
      "source": [
        "# Chorus of Smells Like Teenspirit by Nirvana\n",
        "# any notes that were 16ths are incooporated as 8th notes\n",
        "nirvana_smells_like_teenspirit = []\n",
        "for i in range(11):\n",
        "  nirvana_smells_like_teenspirit.append([2,2,0,0,2,2,0,2])\n",
        "nirvana_smells_like_teenspirit.append([2,2,0,2,0,2,0,2])\n",
        "\n",
        "nirvana_slts_simplified = simplify_song(nirvana_smells_like_teenspirit)\n",
        "nirvana_slts_simplified = np.array(nirvana_slts_simplified)\n",
        "print(nirvana_slts_simplified)\n",
        "file = open('training_data/nirvana_slts.txt', 'w')\n",
        "file.write(str(nirvana_slts_simplified))\n",
        "file.close()"
      ],
      "execution_count": null,
      "outputs": []
    },
    {
      "cell_type": "code",
      "metadata": {
        "id": "Q26UJudSrRKj"
      },
      "source": [
        "# Chorus of Highway to Hell by AC/DC\n",
        "ACDC_highway_to_hell = []\n",
        "ACDC_highway_to_hell.append([2,0,0,0,2,0,0,2])\n",
        "ACDC_highway_to_hell.append([2,0,0,0,2,1,0,0])\n",
        "ACDC_highway_to_hell.append([2,0,0,0,2,0,0,2])\n",
        "ACDC_highway_to_hell.append([2,0,0,0,2,1,0,0])\n",
        "ACDC_highway_to_hell.append([2,0,0,0,2,0,0,2])\n",
        "ACDC_highway_to_hell.append([2,0,0,0,2,1,0,0])\n",
        "ACDC_highway_to_hell.append([2,0,0,0,2,0,0,2])\n",
        "ACDC_highway_to_hell.append([2,0,0,0,2,1,0,0])\n",
        "ACDC_highway_to_hell.append([2,0,0,0,2,0,0,2])\n",
        "ACDC_highway_to_hell.append([2,0,0,0,2,1,0,0])\n",
        "ACDC_highway_to_hell.append([2,0,0,0,2,0,0,0])\n",
        "ACDC_highway_to_hell.append([0,0,0,0,0,0,0,0])\n",
        "ACDC_highway_to_hell.append([0,0,0,0,0,0,0,2])\n",
        "\n",
        "ACDC_hth_simplified = simplify_song(ACDC_highway_to_hell)\n",
        "ACDC_hth_simplified = np.array(ACDC_hth_simplified)\n",
        "print(ACDC_hth_simplified)\n",
        "file = open('training_data/ACDC_hth.txt', 'w')\n",
        "file.write(str(ACDC_hth_simplified))\n",
        "file.close()"
      ],
      "execution_count": null,
      "outputs": []
    },
    {
      "cell_type": "code",
      "metadata": {
        "id": "f_3lrWNu7Tcu",
        "colab": {
          "base_uri": "https://localhost:8080/"
        },
        "outputId": "60cdc286-b618-4d24-f804-50430fa6117f"
      },
      "source": [
        "real_dataset = []\n",
        "inputs = []\n",
        "outputs = []\n",
        "\n",
        "real_dataset.extend(bj_iml_updated)\n",
        "real_dataset.extend(queen_up_simplified)\n",
        "real_dataset.extend(eyeofthetiger_simplified)\n",
        "real_dataset.extend(arctic_rumine_simplified)\n",
        "real_dataset.extend(fob_takeover_breaksover_simplified)\n",
        "real_dataset.extend(nickelback_tihyrm_simplified)\n",
        "real_dataset.extend(brightside_simplified)\n",
        "real_dataset.extend(summer_69_simplified)\n",
        "real_dataset.extend(nirvana_slts_simplified)\n",
        "real_dataset.extend(ACDC_hth_simplified)\n",
        "\n",
        "real_dataset = np.array(real_dataset)\n",
        "real_dataset = np.reshape(real_dataset, (134, 8))\n",
        "\n",
        "X_train = []\n",
        "X_test =[]\n",
        "Y_train = []\n",
        "Y_test = []\n",
        "\n",
        "# The testing and training data isn't split between songs, \n",
        "# but rather summer of 69 is partly in both the testing and the training data\n",
        "# Because this is an extended lab exercise and many sequences are repeating, \n",
        "# we favoured having a nice percentual division between the training and \n",
        "# testing data over putting whole songs in it.\n",
        "X_train = real_dataset[0:102]\n",
        "Y_train = real_dataset[1:103]\n",
        "X_test = real_dataset[103:133]\n",
        "Y_test = real_dataset[104:134]\n",
        "\n",
        "print(X_train.shape, Y_train.shape, X_test.shape, Y_test.shape)"
      ],
      "execution_count": 17,
      "outputs": [
        {
          "output_type": "stream",
          "text": [
            "(102, 8) (102, 8) (30, 8) (30, 8)\n"
          ],
          "name": "stdout"
        }
      ]
    },
    {
      "cell_type": "markdown",
      "metadata": {
        "id": "QR7nXGmz9t8G"
      },
      "source": [
        "#The Network:\n",
        "Below we define the network architecture, we have 2 hidden layers of each 128 neurons, the input and output layer are both 8 neurons."
      ]
    },
    {
      "cell_type": "code",
      "metadata": {
        "id": "paMsIyugutuu"
      },
      "source": [
        "# Fix the seed to ensure the results are replicable\n",
        "np.random.seed(24)\n",
        "tf.random.set_seed(24)\n",
        "\n",
        "# Initialize the MLP model\n",
        "model = keras.models.Sequential()\n",
        "\n",
        "# The input layer, with the number of neurons is equal to the number\n",
        "# of data in X_train NumPy array (namely 8)\n",
        "model.add(\n",
        "    keras.layers.Dense(\n",
        "    name='InputLayer',\n",
        "    units=128,\n",
        "    input_dim=X_train.shape[1],           # This gives 8\n",
        "    kernel_initializer='glorot_uniform',  # defines how to initialise the weights  \n",
        "    # the regularization argument, minimizes Wx+b by adjusting W and b\n",
        "    activity_regularizer=tf.keras.regularizers.L1(1e-4),\n",
        "    bias_initializer='zeros',\n",
        "    activation='tanh') \n",
        ")\n",
        "# Hidden layer 1 with 128 neurons\n",
        "model.add(\n",
        "    keras.layers.Dense(\n",
        "    name='HiddenLayer1',\n",
        "    units=128,\n",
        "    input_dim=128,\n",
        "    kernel_initializer='glorot_uniform',\n",
        "    bias_initializer='zeros',\n",
        "    activity_regularizer=tf.keras.regularizers.L1(1e-4),\n",
        "    activation='tanh')\n",
        ")\n",
        "# Hidden layer 2 with 128 neurons\n",
        "model.add(\n",
        "    keras.layers.Dense(\n",
        "    name='HiddenLayer2',\n",
        "    units=128,\n",
        "    input_dim=128,\n",
        "    kernel_initializer='glorot_uniform',\n",
        "    bias_initializer='zeros',\n",
        "    activity_regularizer=tf.keras.regularizers.L1(1e-4),\n",
        "    activation='tanh')\n",
        ")\n",
        "\n",
        "# Add an output layer. The number of output layer neurons is equal to the number\n",
        "# of data in Y_train NumPy array (namely 8)\n",
        "model.add(\n",
        "    keras.layers.Dense(\n",
        "    name='OutputLayer',\n",
        "    units=Y_train.shape[1],\n",
        "    input_dim=128,\n",
        "    kernel_initializer='glorot_uniform',\n",
        "    bias_initializer='zeros',\n",
        "    activation='tanh')\n",
        ")\n",
        "\n",
        "# Define Stochastic Gradient Descent optimizer\n",
        "optimizer = keras.optimizers.SGD(learning_rate=0.005, momentum=0.3)\n",
        "# Compile model use Mean Square Error loss\n",
        "model.compile(optimizer=optimizer, loss='mse', metrics=[\"accuracy\", \"mse\"])\n",
        "# Train model (4000 epochs,each epoch model is tested on validation dataset.\n",
        "# Verbose=2 allows to see extra details for each epoch, 0 hides all progress.)\n",
        "history = model.fit(X_train, Y_train, validation_data=(X_test, Y_test),  epochs=4000, verbose=0)\n"
      ],
      "execution_count": 18,
      "outputs": []
    },
    {
      "cell_type": "markdown",
      "metadata": {
        "id": "FFzFp6ioBUtV"
      },
      "source": [
        "# Generating the Results\n",
        "Below we generate the results and test them with our testing data."
      ]
    },
    {
      "cell_type": "code",
      "metadata": {
        "id": "E-tCqcxyNOvT",
        "colab": {
          "base_uri": "https://localhost:8080/",
          "height": 468
        },
        "outputId": "661b336d-952d-478d-e048-362c68397922"
      },
      "source": [
        "import matplotlib.scale\n",
        "\n",
        "generator = X_test[11]\n",
        "generator = np.expand_dims(generator, axis=0)\n",
        "generatedDrum = generator\n",
        "\n",
        "pyplot.plot(history.history['accuracy'], label='train')\n",
        "pyplot.plot(history.history['val_accuracy'], label='test')\n",
        "pyplot.legend()\n",
        "pyplot.xlabel(\"Epochs\")\n",
        "pyplot.ylabel(\"Accuracy\")\n",
        "pyplot.show()\n",
        "\n",
        "np.set_printoptions(precision=2)\n",
        "for i in range(8):\n",
        "  output = model.predict(generator, verbose=0)\n",
        "  output[output <= 0.5] = 0\n",
        "  output[output > 0.5] = 1\n",
        "  print(output)\n",
        "  \n",
        "  generatedDrum = np.append(generatedDrum, output)\n",
        "  generator = generatedDrum[-8:]\n",
        "  generator = np.expand_dims(generator, axis=0)\n",
        "  \n",
        "print(generatedDrum)"
      ],
      "execution_count": 23,
      "outputs": [
        {
          "output_type": "display_data",
          "data": {
            "image/png": "[encoded data removed]",
            "text/plain": [
              "<Figure size 432x288 with 1 Axes>"
            ]
          },
          "metadata": {
            "tags": [],
            "needs_background": "light"
          }
        },
        {
          "output_type": "stream",
          "text": [
            "[[1. 0. 0. 1. 1. 1. 0. 1.]]\n",
            "[[1. 1. 0. 0. 1. 0. 0. 0.]]\n",
            "[[1. 0. 0. 1. 0. 1. 0. 0.]]\n",
            "[[1. 1. 0. 1. 1. 0. 0. 0.]]\n",
            "[[1. 1. 0. 1. 0. 1. 0. 0.]]\n",
            "[[1. 1. 0. 1. 0. 1. 0. 0.]]\n",
            "[[1. 1. 0. 1. 0. 1. 0. 0.]]\n",
            "[[1. 1. 0. 1. 0. 1. 0. 0.]]\n",
            "[1. 1. 0. 0. 1. 1. 0. 1. 1. 0. 0. 1. 1. 1. 0. 1. 1. 1. 0. 0. 1. 0. 0. 0.\n",
            " 1. 0. 0. 1. 0. 1. 0. 0. 1. 1. 0. 1. 1. 0. 0. 0. 1. 1. 0. 1. 0. 1. 0. 0.\n",
            " 1. 1. 0. 1. 0. 1. 0. 0. 1. 1. 0. 1. 0. 1. 0. 0. 1. 1. 0. 1. 0. 1. 0. 0.]\n"
          ],
          "name": "stdout"
        }
      ]
    },
    {
      "cell_type": "code",
      "metadata": {
        "id": "TNvRcbC7Fy8U"
      },
      "source": [
        "model.summary()\n",
        "plot_model(model, to_file='model_plot.png', show_shapes=True, show_layer_names=True)"
      ],
      "execution_count": null,
      "outputs": []
    },
    {
      "cell_type": "code",
      "metadata": {
        "colab": {
          "base_uri": "https://localhost:8080/",
          "height": 75
        },
        "id": "Cb1yQ-sT-qJG",
        "outputId": "9879cc79-a2e3-4d95-968c-8fc02e6a2d2e"
      },
      "source": [
        "from note_seq.protobuf import music_pb2\n",
        "np.random.seed(24)\n",
        "drums = music_pb2.NoteSequence()\n",
        "for i in range(0, len(generatedDrum)):\n",
        "  if i%8 == 0:\n",
        "    pitch_choice = 38\n",
        "  else: \n",
        "    pitch_choice = 36\n",
        "  if generatedDrum[i] != 0:\n",
        "    drums.notes.add(pitch=pitch_choice, start_time=0.27*i, end_time=(0.27*(i+1)), is_drum=True, instrument=10, velocity=110)\n",
        "\n",
        "drums.total_time = 0.27*len(generatedDrum)\n",
        "\n",
        "drums.tempos.add(qpm=90)\n",
        "\n",
        "# This is a Magenta utility method that plays a NoteSequence.\n",
        "note_seq.play_sequence(drums,synth=note_seq.fluidsynth)"
      ],
      "execution_count": 24,
      "outputs": [
        {
          "output_type": "display_data",
          "data": {
            "text/html": [
              "<div id=\"id_2\"> </div>"
            ],
            "text/plain": [
              "<IPython.core.display.HTML object>"
            ]
          },
          "metadata": {
            "tags": []
          }
        }
      ]
    },
    {
      "cell_type": "markdown",
      "metadata": {
        "id": "n1i6GDxTU6Pf"
      },
      "source": [
        "# Extra\n",
        "\n",
        "Below we do some extra analysis of the data, e.g., finding fixed points in the NN."
      ]
    },
    {
      "cell_type": "code",
      "metadata": {
        "id": "WGz7-LO3ABie",
        "colab": {
          "base_uri": "https://localhost:8080/",
          "height": 217
        },
        "outputId": "b4281f4d-6e73-466f-e00a-8d89aeefc46d"
      },
      "source": [
        "# This is a Magenta utility method that visualizes a NoteSequence.\n",
        "note_seq.plot_sequence(drums)"
      ],
      "execution_count": 25,
      "outputs": [
        {
          "output_type": "display_data",
          "data": {
            "application/javascript": [
              "\n",
              "(function(root) {\n",
              "  function now() {\n",
              "    return new Date();\n",
              "  }\n",
              "\n",
              "  var force = true;\n",
              "\n",
              "  if (typeof root._bokeh_onload_callbacks === \"undefined\" || force === true) {\n",
              "    root._bokeh_onload_callbacks = [];\n",
              "    root._bokeh_is_loading = undefined;\n",
              "  }\n",
              "\n",
              "  var JS_MIME_TYPE = 'application/javascript';\n",
              "  var HTML_MIME_TYPE = 'text/html';\n",
              "  var EXEC_MIME_TYPE = 'application/vnd.bokehjs_exec.v0+json';\n",
              "  var CLASS_NAME = 'output_bokeh rendered_html';\n",
              "\n",
              "  /**\n",
              "   * Render data to the DOM node\n",
              "   */\n",
              "  function render(props, node) {\n",
              "    var script = document.createElement(\"script\");\n",
              "    node.appendChild(script);\n",
              "  }\n",
              "\n",
              "  /**\n",
              "   * Handle when an output is cleared or removed\n",
              "   */\n",
              "  function handleClearOutput(event, handle) {\n",
              "    var cell = handle.cell;\n",
              "\n",
              "    var id = cell.output_area._bokeh_element_id;\n",
              "    var server_id = cell.output_area._bokeh_server_id;\n",
              "    // Clean up Bokeh references\n",
              "    if (id != null && id in Bokeh.index) {\n",
              "      Bokeh.index[id].model.document.clear();\n",
              "      delete Bokeh.index[id];\n",
              "    }\n",
              "\n",
              "    if (server_id !== undefined) {\n",
              "      // Clean up Bokeh references\n",
              "      var cmd = \"from bokeh.io.state import curstate; print(curstate().uuid_to_server['\" + server_id + \"'].get_sessions()[0].document.roots[0]._id)\";\n",
              "      cell.notebook.kernel.execute(cmd, {\n",
              "        iopub: {\n",
              "          output: function(msg) {\n",
              "            var id = msg.content.text.trim();\n",
              "            if (id in Bokeh.index) {\n",
              "              Bokeh.index[id].model.document.clear();\n",
              "              delete Bokeh.index[id];\n",
              "            }\n",
              "          }\n",
              "        }\n",
              "      });\n",
              "      // Destroy server and session\n",
              "      var cmd = \"import bokeh.io.notebook as ion; ion.destroy_server('\" + server_id + \"')\";\n",
              "      cell.notebook.kernel.execute(cmd);\n",
              "    }\n",
              "  }\n",
              "\n",
              "  /**\n",
              "   * Handle when a new output is added\n",
              "   */\n",
              "  function handleAddOutput(event, handle) {\n",
              "    var output_area = handle.output_area;\n",
              "    var output = handle.output;\n",
              "\n",
              "    // limit handleAddOutput to display_data with EXEC_MIME_TYPE content only\n",
              "    if ((output.output_type != \"display_data\") || (!Object.prototype.hasOwnProperty.call(output.data, EXEC_MIME_TYPE))) {\n",
              "      return\n",
              "    }\n",
              "\n",
              "    var toinsert = output_area.element.find(\".\" + CLASS_NAME.split(' ')[0]);\n",
              "\n",
              "    if (output.metadata[EXEC_MIME_TYPE][\"id\"] !== undefined) {\n",
              "      toinsert[toinsert.length - 1].firstChild.textContent = output.data[JS_MIME_TYPE];\n",
              "      // store reference to embed id on output_area\n",
              "      output_area._bokeh_element_id = output.metadata[EXEC_MIME_TYPE][\"id\"];\n",
              "    }\n",
              "    if (output.metadata[EXEC_MIME_TYPE][\"server_id\"] !== undefined) {\n",
              "      var bk_div = document.createElement(\"div\");\n",
              "      bk_div.innerHTML = output.data[HTML_MIME_TYPE];\n",
              "      var script_attrs = bk_div.children[0].attributes;\n",
              "      for (var i = 0; i < script_attrs.length; i++) {\n",
              "        toinsert[toinsert.length - 1].firstChild.setAttribute(script_attrs[i].name, script_attrs[i].value);\n",
              "        toinsert[toinsert.length - 1].firstChild.textContent = bk_div.children[0].textContent\n",
              "      }\n",
              "      // store reference to server id on output_area\n",
              "      output_area._bokeh_server_id = output.metadata[EXEC_MIME_TYPE][\"server_id\"];\n",
              "    }\n",
              "  }\n",
              "\n",
              "  function register_renderer(events, OutputArea) {\n",
              "\n",
              "    function append_mime(data, metadata, element) {\n",
              "      // create a DOM node to render to\n",
              "      var toinsert = this.create_output_subarea(\n",
              "        metadata,\n",
              "        CLASS_NAME,\n",
              "        EXEC_MIME_TYPE\n",
              "      );\n",
              "      this.keyboard_manager.register_events(toinsert);\n",
              "      // Render to node\n",
              "      var props = {data: data, metadata: metadata[EXEC_MIME_TYPE]};\n",
              "      render(props, toinsert[toinsert.length - 1]);\n",
              "      element.append(toinsert);\n",
              "      return toinsert\n",
              "    }\n",
              "\n",
              "    /* Handle when an output is cleared or removed */\n",
              "    events.on('clear_output.CodeCell', handleClearOutput);\n",
              "    events.on('delete.Cell', handleClearOutput);\n",
              "\n",
              "    /* Handle when a new output is added */\n",
              "    events.on('output_added.OutputArea', handleAddOutput);\n",
              "\n",
              "    /**\n",
              "     * Register the mime type and append_mime function with output_area\n",
              "     */\n",
              "    OutputArea.prototype.register_mime_type(EXEC_MIME_TYPE, append_mime, {\n",
              "      /* Is output safe? */\n",
              "      safe: true,\n",
              "      /* Index of renderer in `output_area.display_order` */\n",
              "      index: 0\n",
              "    });\n",
              "  }\n",
              "\n",
              "  // register the mime type if in Jupyter Notebook environment and previously unregistered\n",
              "  if (root.Jupyter !== undefined) {\n",
              "    var events = require('base/js/events');\n",
              "    var OutputArea = require('notebook/js/outputarea').OutputArea;\n",
              "\n",
              "    if (OutputArea.prototype.mime_types().indexOf(EXEC_MIME_TYPE) == -1) {\n",
              "      register_renderer(events, OutputArea);\n",
              "    }\n",
              "  }\n",
              "\n",
              "  \n",
              "  if (typeof (root._bokeh_timeout) === \"undefined\" || force === true) {\n",
              "    root._bokeh_timeout = Date.now() + 5000;\n",
              "    root._bokeh_failed_load = false;\n",
              "  }\n",
              "\n",
              "  var NB_LOAD_WARNING = {'data': {'text/html':\n",
              "     \"<div style='background-color: #fdd'>\\n\"+\n",
              "     \"<p>\\n\"+\n",
              "     \"BokehJS does not appear to have successfully loaded. If loading BokehJS from CDN, this \\n\"+\n",
              "     \"may be due to a slow or bad network connection. Possible fixes:\\n\"+\n",
              "     \"</p>\\n\"+\n",
              "     \"<ul>\\n\"+\n",
              "     \"<li>re-rerun `output_notebook()` to attempt to load from CDN again, or</li>\\n\"+\n",
              "     \"<li>use INLINE resources instead, as so:</li>\\n\"+\n",
              "     \"</ul>\\n\"+\n",
              "     \"<code>\\n\"+\n",
              "     \"from bokeh.resources import INLINE\\n\"+\n",
              "     \"output_notebook(resources=INLINE)\\n\"+\n",
              "     \"</code>\\n\"+\n",
              "     \"</div>\"}};\n",
              "\n",
              "  function display_loaded() {\n",
              "    var el = document.getElementById(null);\n",
              "    if (el != null) {\n",
              "      el.textContent = \"BokehJS is loading...\";\n",
              "    }\n",
              "    if (root.Bokeh !== undefined) {\n",
              "      if (el != null) {\n",
              "        el.textContent = \"BokehJS \" + root.Bokeh.version + \" successfully loaded.\";\n",
              "      }\n",
              "    } else if (Date.now() < root._bokeh_timeout) {\n",
              "      setTimeout(display_loaded, 100)\n",
              "    }\n",
              "  }\n",
              "\n",
              "\n",
              "  function run_callbacks() {\n",
              "    try {\n",
              "      root._bokeh_onload_callbacks.forEach(function(callback) {\n",
              "        if (callback != null)\n",
              "          callback();\n",
              "      });\n",
              "    } finally {\n",
              "      delete root._bokeh_onload_callbacks\n",
              "    }\n",
              "    console.debug(\"Bokeh: all callbacks have finished\");\n",
              "  }\n",
              "\n",
              "  function load_libs(css_urls, js_urls, callback) {\n",
              "    if (css_urls == null) css_urls = [];\n",
              "    if (js_urls == null) js_urls = [];\n",
              "\n",
              "    root._bokeh_onload_callbacks.push(callback);\n",
              "    if (root._bokeh_is_loading > 0) {\n",
              "      console.debug(\"Bokeh: BokehJS is being loaded, scheduling callback at\", now());\n",
              "      return null;\n",
              "    }\n",
              "    if (js_urls == null || js_urls.length === 0) {\n",
              "      run_callbacks();\n",
              "      return null;\n",
              "    }\n",
              "    console.debug(\"Bokeh: BokehJS not loaded, scheduling load and callback at\", now());\n",
              "    root._bokeh_is_loading = css_urls.length + js_urls.length;\n",
              "\n",
              "    function on_load() {\n",
              "      root._bokeh_is_loading--;\n",
              "      if (root._bokeh_is_loading === 0) {\n",
              "        console.debug(\"Bokeh: all BokehJS libraries/stylesheets loaded\");\n",
              "        run_callbacks()\n",
              "      }\n",
              "    }\n",
              "\n",
              "    function on_error(url) {\n",
              "      console.error(\"failed to load \" + url);\n",
              "    }\n",
              "\n",
              "    for (let i = 0; i < css_urls.length; i++) {\n",
              "      const url = css_urls[i];\n",
              "      const element = document.createElement(\"link\");\n",
              "      element.onload = on_load;\n",
              "      element.onerror = on_error.bind(null, url);\n",
              "      element.rel = \"stylesheet\";\n",
              "      element.type = \"text/css\";\n",
              "      element.href = url;\n",
              "      console.debug(\"Bokeh: injecting link tag for BokehJS stylesheet: \", url);\n",
              "      document.body.appendChild(element);\n",
              "    }\n",
              "\n",
              "    const hashes = {\"https://cdn.bokeh.org/bokeh/release/bokeh-2.3.2.min.js\": \"XypntL49z55iwGVUW4qsEu83zKL3XEcz0MjuGOQ9SlaaQ68X/g+k1FcioZi7oQAc\", \"https://cdn.bokeh.org/bokeh/release/bokeh-tables-2.3.2.min.js\": \"bEsM86IHGDTLCS0Zod8a8WM6Y4+lafAL/eSiyQcuPzinmWNgNO2/olUF0Z2Dkn5i\", \"https://cdn.bokeh.org/bokeh/release/bokeh-widgets-2.3.2.min.js\": \"TX0gSQTdXTTeScqxj6PVQxTiRW8DOoGVwinyi1D3kxv7wuxQ02XkOxv0xwiypcAH\"};\n",
              "\n",
              "    for (let i = 0; i < js_urls.length; i++) {\n",
              "      const url = js_urls[i];\n",
              "      const element = document.createElement('script');\n",
              "      element.onload = on_load;\n",
              "      element.onerror = on_error.bind(null, url);\n",
              "      element.async = false;\n",
              "      element.src = url;\n",
              "      if (url in hashes) {\n",
              "        element.crossOrigin = \"anonymous\";\n",
              "        element.integrity = \"sha384-\" + hashes[url];\n",
              "      }\n",
              "      console.debug(\"Bokeh: injecting script tag for BokehJS library: \", url);\n",
              "      document.head.appendChild(element);\n",
              "    }\n",
              "  };\n",
              "\n",
              "  function inject_raw_css(css) {\n",
              "    const element = document.createElement(\"style\");\n",
              "    element.appendChild(document.createTextNode(css));\n",
              "    document.body.appendChild(element);\n",
              "  }\n",
              "\n",
              "  \n",
              "  var js_urls = [\"https://cdn.bokeh.org/bokeh/release/bokeh-2.3.2.min.js\", \"https://cdn.bokeh.org/bokeh/release/bokeh-widgets-2.3.2.min.js\", \"https://cdn.bokeh.org/bokeh/release/bokeh-tables-2.3.2.min.js\"];\n",
              "  var css_urls = [];\n",
              "  \n",
              "\n",
              "  var inline_js = [\n",
              "    function(Bokeh) {\n",
              "      Bokeh.set_log_level(\"info\");\n",
              "    },\n",
              "    function(Bokeh) {\n",
              "    \n",
              "    \n",
              "    }\n",
              "  ];\n",
              "\n",
              "  function run_inline_js() {\n",
              "    \n",
              "    if (root.Bokeh !== undefined || force === true) {\n",
              "      \n",
              "    for (var i = 0; i < inline_js.length; i++) {\n",
              "      inline_js[i].call(root, root.Bokeh);\n",
              "    }\n",
              "    } else if (Date.now() < root._bokeh_timeout) {\n",
              "      setTimeout(run_inline_js, 100);\n",
              "    } else if (!root._bokeh_failed_load) {\n",
              "      console.log(\"Bokeh: BokehJS failed to load within specified timeout.\");\n",
              "      root._bokeh_failed_load = true;\n",
              "    } else if (force !== true) {\n",
              "      var cell = $(document.getElementById(null)).parents('.cell').data().cell;\n",
              "      cell.output_area.append_execute_result(NB_LOAD_WARNING)\n",
              "    }\n",
              "\n",
              "  }\n",
              "\n",
              "  if (root._bokeh_is_loading === 0) {\n",
              "    console.debug(\"Bokeh: BokehJS loaded, going straight to plotting\");\n",
              "    run_inline_js();\n",
              "  } else {\n",
              "    load_libs(css_urls, js_urls, function() {\n",
              "      console.debug(\"Bokeh: BokehJS plotting callback run at\", now());\n",
              "      run_inline_js();\n",
              "    });\n",
              "  }\n",
              "}(window));"
            ],
            "application/vnd.bokehjs_load.v0+json": "\n(function(root) {\n  function now() {\n    return new Date();\n  }\n\n  var force = true;\n\n  if (typeof root._bokeh_onload_callbacks === \"undefined\" || force === true) {\n    root._bokeh_onload_callbacks = [];\n    root._bokeh_is_loading = undefined;\n  }\n\n  \n\n  \n  if (typeof (root._bokeh_timeout) === \"undefined\" || force === true) {\n    root._bokeh_timeout = Date.now() + 5000;\n    root._bokeh_failed_load = false;\n  }\n\n  var NB_LOAD_WARNING = {'data': {'text/html':\n     \"<div style='background-color: #fdd'>\\n\"+\n     \"<p>\\n\"+\n     \"BokehJS does not appear to have successfully loaded. If loading BokehJS from CDN, this \\n\"+\n     \"may be due to a slow or bad network connection. Possible fixes:\\n\"+\n     \"</p>\\n\"+\n     \"<ul>\\n\"+\n     \"<li>re-rerun `output_notebook()` to attempt to load from CDN again, or</li>\\n\"+\n     \"<li>use INLINE resources instead, as so:</li>\\n\"+\n     \"</ul>\\n\"+\n     \"<code>\\n\"+\n     \"from bokeh.resources import INLINE\\n\"+\n     \"output_notebook(resources=INLINE)\\n\"+\n     \"</code>\\n\"+\n     \"</div>\"}};\n\n  function display_loaded() {\n    var el = document.getElementById(null);\n    if (el != null) {\n      el.textContent = \"BokehJS is loading...\";\n    }\n    if (root.Bokeh !== undefined) {\n      if (el != null) {\n        el.textContent = \"BokehJS \" + root.Bokeh.version + \" successfully loaded.\";\n      }\n    } else if (Date.now() < root._bokeh_timeout) {\n      setTimeout(display_loaded, 100)\n    }\n  }\n\n\n  function run_callbacks() {\n    try {\n      root._bokeh_onload_callbacks.forEach(function(callback) {\n        if (callback != null)\n          callback();\n      });\n    } finally {\n      delete root._bokeh_onload_callbacks\n    }\n    console.debug(\"Bokeh: all callbacks have finished\");\n  }\n\n  function load_libs(css_urls, js_urls, callback) {\n    if (css_urls == null) css_urls = [];\n    if (js_urls == null) js_urls = [];\n\n    root._bokeh_onload_callbacks.push(callback);\n    if (root._bokeh_is_loading > 0) {\n      console.debug(\"Bokeh: BokehJS is being loaded, scheduling callback at\", now());\n      return null;\n    }\n    if (js_urls == null || js_urls.length === 0) {\n      run_callbacks();\n      return null;\n    }\n    console.debug(\"Bokeh: BokehJS not loaded, scheduling load and callback at\", now());\n    root._bokeh_is_loading = css_urls.length + js_urls.length;\n\n    function on_load() {\n      root._bokeh_is_loading--;\n      if (root._bokeh_is_loading === 0) {\n        console.debug(\"Bokeh: all BokehJS libraries/stylesheets loaded\");\n        run_callbacks()\n      }\n    }\n\n    function on_error(url) {\n      console.error(\"failed to load \" + url);\n    }\n\n    for (let i = 0; i < css_urls.length; i++) {\n      const url = css_urls[i];\n      const element = document.createElement(\"link\");\n      element.onload = on_load;\n      element.onerror = on_error.bind(null, url);\n      element.rel = \"stylesheet\";\n      element.type = \"text/css\";\n      element.href = url;\n      console.debug(\"Bokeh: injecting link tag for BokehJS stylesheet: \", url);\n      document.body.appendChild(element);\n    }\n\n    const hashes = {\"https://cdn.bokeh.org/bokeh/release/bokeh-2.3.2.min.js\": \"XypntL49z55iwGVUW4qsEu83zKL3XEcz0MjuGOQ9SlaaQ68X/g+k1FcioZi7oQAc\", \"https://cdn.bokeh.org/bokeh/release/bokeh-tables-2.3.2.min.js\": \"bEsM86IHGDTLCS0Zod8a8WM6Y4+lafAL/eSiyQcuPzinmWNgNO2/olUF0Z2Dkn5i\", \"https://cdn.bokeh.org/bokeh/release/bokeh-widgets-2.3.2.min.js\": \"TX0gSQTdXTTeScqxj6PVQxTiRW8DOoGVwinyi1D3kxv7wuxQ02XkOxv0xwiypcAH\"};\n\n    for (let i = 0; i < js_urls.length; i++) {\n      const url = js_urls[i];\n      const element = document.createElement('script');\n      element.onload = on_load;\n      element.onerror = on_error.bind(null, url);\n      element.async = false;\n      element.src = url;\n      if (url in hashes) {\n        element.crossOrigin = \"anonymous\";\n        element.integrity = \"sha384-\" + hashes[url];\n      }\n      console.debug(\"Bokeh: injecting script tag for BokehJS library: \", url);\n      document.head.appendChild(element);\n    }\n  };\n\n  function inject_raw_css(css) {\n    const element = document.createElement(\"style\");\n    element.appendChild(document.createTextNode(css));\n    document.body.appendChild(element);\n  }\n\n  \n  var js_urls = [\"https://cdn.bokeh.org/bokeh/release/bokeh-2.3.2.min.js\", \"https://cdn.bokeh.org/bokeh/release/bokeh-widgets-2.3.2.min.js\", \"https://cdn.bokeh.org/bokeh/release/bokeh-tables-2.3.2.min.js\"];\n  var css_urls = [];\n  \n\n  var inline_js = [\n    function(Bokeh) {\n      Bokeh.set_log_level(\"info\");\n    },\n    function(Bokeh) {\n    \n    \n    }\n  ];\n\n  function run_inline_js() {\n    \n    if (root.Bokeh !== undefined || force === true) {\n      \n    for (var i = 0; i < inline_js.length; i++) {\n      inline_js[i].call(root, root.Bokeh);\n    }\n    } else if (Date.now() < root._bokeh_timeout) {\n      setTimeout(run_inline_js, 100);\n    } else if (!root._bokeh_failed_load) {\n      console.log(\"Bokeh: BokehJS failed to load within specified timeout.\");\n      root._bokeh_failed_load = true;\n    } else if (force !== true) {\n      var cell = $(document.getElementById(null)).parents('.cell').data().cell;\n      cell.output_area.append_execute_result(NB_LOAD_WARNING)\n    }\n\n  }\n\n  if (root._bokeh_is_loading === 0) {\n    console.debug(\"Bokeh: BokehJS loaded, going straight to plotting\");\n    run_inline_js();\n  } else {\n    load_libs(css_urls, js_urls, function() {\n      console.debug(\"Bokeh: BokehJS plotting callback run at\", now());\n      run_inline_js();\n    });\n  }\n}(window));"
          },
          "metadata": {
            "tags": []
          }
        },
        {
          "output_type": "display_data",
          "data": {
            "text/html": [
              "\n",
              "\n",
              "\n",
              "\n",
              "\n",
              "\n",
              "  <div class=\"bk-root\" id=\"0bfb19eb-3525-44e0-8ff4-a6b9bf50cc98\" data-root-id=\"1110\"></div>\n"
            ]
          },
          "metadata": {
            "tags": []
          }
        },
        {
          "output_type": "display_data",
          "data": {
            "application/javascript": [
              "(function(root) {\n",
              "  function embed_document(root) {\n",
              "    \n",
              "  var docs_json = {\"2a0f3e2a-9748-4503-9180-a24d00673770\":{\"defs\":[],\"roots\":{\"references\":[{\"attributes\":{\"below\":[{\"id\":\"1119\"}],\"center\":[{\"id\":\"1122\"},{\"id\":\"1126\"}],\"height\":200,\"left\":[{\"id\":\"1123\"}],\"renderers\":[{\"id\":\"1146\"}],\"title\":{\"id\":\"1148\"},\"toolbar\":{\"id\":\"1133\"},\"width\":500,\"x_range\":{\"id\":\"1111\"},\"x_scale\":{\"id\":\"1115\"},\"y_range\":{\"id\":\"1113\"},\"y_scale\":{\"id\":\"1117\"}},\"id\":\"1110\",\"subtype\":\"Figure\",\"type\":\"Plot\"},{\"attributes\":{},\"id\":\"1115\",\"type\":\"LinearScale\"},{\"attributes\":{},\"id\":\"1128\",\"type\":\"PanTool\"},{\"attributes\":{},\"id\":\"1151\",\"type\":\"AllLabels\"},{\"attributes\":{},\"id\":\"1130\",\"type\":\"ResetTool\"},{\"attributes\":{\"callback\":null,\"tooltips\":[[\"pitch\",\"@pitch\"],[\"program\",\"@program\"],[\"velo\",\"@velocity\"],[\"duration\",\"@duration\"],[\"start_time\",\"@start_time\"],[\"end_time\",\"@end_time\"],[\"velocity\",\"@velocity\"],[\"fill_alpha\",\"@fill_alpha\"]]},\"id\":\"1127\",\"type\":\"HoverTool\"},{\"attributes\":{},\"id\":\"1131\",\"type\":\"SaveTool\"},{\"attributes\":{},\"id\":\"1156\",\"type\":\"UnionRenderers\"},{\"attributes\":{},\"id\":\"1153\",\"type\":\"AllLabels\"},{\"attributes\":{\"source\":{\"id\":\"1142\"}},\"id\":\"1147\",\"type\":\"CDSView\"},{\"attributes\":{\"bottom\":{\"field\":\"bottom\"},\"fill_alpha\":{\"value\":0.1},\"fill_color\":{\"value\":\"#d53e4f\"},\"left\":{\"field\":\"start_time\"},\"line_alpha\":{\"value\":0.1},\"right\":{\"field\":\"end_time\"},\"top\":{\"field\":\"top\"}},\"id\":\"1145\",\"type\":\"Quad\"},{\"attributes\":{},\"id\":\"1148\",\"type\":\"Title\"},{\"attributes\":{},\"id\":\"1152\",\"type\":\"BasicTickFormatter\"},{\"attributes\":{},\"id\":\"1117\",\"type\":\"LinearScale\"},{\"attributes\":{\"data\":{\"bottom\":{\"__ndarray__\":\"zczMzMzMQkDNzMzMzMxBQM3MzMzMzEFAzczMzMzMQUDNzMzMzMxBQM3MzMzMzEJAzczMzMzMQUDNzMzMzMxBQM3MzMzMzEFAzczMzMzMQUDNzMzMzMxCQM3MzMzMzEFAzczMzMzMQUDNzMzMzMxCQM3MzMzMzEFAzczMzMzMQUDNzMzMzMxCQM3MzMzMzEFAzczMzMzMQUDNzMzMzMxBQM3MzMzMzEJAzczMzMzMQUDNzMzMzMxBQM3MzMzMzEFAzczMzMzMQkDNzMzMzMxBQM3MzMzMzEFAzczMzMzMQUDNzMzMzMxCQM3MzMzMzEFAzczMzMzMQUDNzMzMzMxBQM3MzMzMzEJAzczMzMzMQUDNzMzMzMxBQM3MzMzMzEFA\",\"dtype\":\"float64\",\"order\":\"little\",\"shape\":[36]},\"duration\":{\"__ndarray__\":\"SOF6FK5H0T9I4XoUrkfRP0jhehSuR9E/SOF6FK5H0T9I4XoUrkfRP0jhehSuR9E/SOF6FK5H0T9I4XoUrkfRP0jhehSuR9E/QOF6FK5H0T9A4XoUrkfRP1DhehSuR9E/QOF6FK5H0T9A4XoUrkfRP0DhehSuR9E/YOF6FK5H0T9A4XoUrkfRP0DhehSuR9E/QOF6FK5H0T9A4XoUrkfRP0DhehSuR9E/QOF6FK5H0T9A4XoUrkfRP2DhehSuR9E/QOF6FK5H0T9A4XoUrkfRP0DhehSuR9E/YOF6FK5H0T9A4XoUrkfRP0DhehSuR9E/YOF6FK5H0T9A4XoUrkfRP0DhehSuR9E/QOF6FK5H0T9A4XoUrkfRP0DhehSuR9E/\",\"dtype\":\"float64\",\"order\":\"little\",\"shape\":[36]},\"end_time\":{\"__ndarray__\":\"SOF6FK5H0T9I4XoUrkfhP5qZmZmZmfU/7FG4HoXr+T9I4XoUrkcBQHE9CtejcANA7FG4HoXrCUAVrkfhehQMQD4K16NwPQ5ASOF6FK5HEUBcj8L1KFwSQHE9CtejcBNArkfhehSuFkAAAAAAAAAbQD4K16NwPR5ANDMzMzMzIEBSuB6F69EhQFyPwvUoXCJAcT0K16NwI0B7FK5H4fojQKRwPQrXIyZArkfhehSuJkDD9Shcj8InQNijcD0K1yhA9ihcj8J1KkAAAAAAAAArQBWuR+F6FCxAKlyPwvUoLUBI4XoUrscuQFK4HoXrUS9ANDMzMzMzMEA+CtejcL0wQM3MzMzMjDFAUrgehevRMUBcj8L1KFwyQGdmZmZm5jJA\",\"dtype\":\"float64\",\"order\":\"little\",\"shape\":[36]},\"fill_alpha\":{\"__ndarray__\":\"AAAAAAAA8D8AAAAAAADwPwAAAAAAAPA/AAAAAAAA8D8AAAAAAADwPwAAAAAAAPA/AAAAAAAA8D8AAAAAAADwPwAAAAAAAPA/AAAAAAAA8D8AAAAAAADwPwAAAAAAAPA/AAAAAAAA8D8AAAAAAADwPwAAAAAAAPA/AAAAAAAA8D8AAAAAAADwPwAAAAAAAPA/AAAAAAAA8D8AAAAAAADwPwAAAAAAAPA/AAAAAAAA8D8AAAAAAADwPwAAAAAAAPA/AAAAAAAA8D8AAAAAAADwPwAAAAAAAPA/AAAAAAAA8D8AAAAAAADwPwAAAAAAAPA/AAAAAAAA8D8AAAAAAADwPwAAAAAAAPA/AAAAAAAA8D8AAAAAAADwPwAAAAAAAPA/\",\"dtype\":\"float64\",\"order\":\"little\",\"shape\":[36]},\"index\":[0,1,2,3,4,5,6,7,8,9,10,11,12,13,14,15,16,17,18,19,20,21,22,23,24,25,26,27,28,29,30,31,32,33,34,35],\"instrument\":[10,10,10,10,10,10,10,10,10,10,10,10,10,10,10,10,10,10,10,10,10,10,10,10,10,10,10,10,10,10,10,10,10,10,10,10],\"pitch\":[38,36,36,36,36,38,36,36,36,36,38,36,36,38,36,36,38,36,36,36,38,36,36,36,38,36,36,36,38,36,36,36,38,36,36,36],\"program\":[0,0,0,0,0,0,0,0,0,0,0,0,0,0,0,0,0,0,0,0,0,0,0,0,0,0,0,0,0,0,0,0,0,0,0,0],\"start_time\":{\"__ndarray__\":\"AAAAAAAAAABI4XoUrkfRP0jhehSuR/E/mpmZmZmZ9T8+CtejcD3+P0jhehSuRwFAw/UoXI/CB0DsUbgehesJQBWuR+F6FAxANDMzMzMzEEBI4XoUrkcRQFyPwvUoXBJAmpmZmZmZFUDsUbgehesZQCpcj8L1KB1AUrgehetRH0BI4XoUrkchQFK4HoXr0SFAZ2ZmZmbmIkBxPQrXo3AjQJqZmZmZmSVApHA9CtcjJkC5HoXrUTgnQM3MzMzMTChA7FG4HoXrKUD2KFyPwnUqQAvXo3A9iitAH4XrUbieLEA+CtejcD0uQEjhehSuxy5AXY/C9SjcL0C5HoXrUXgwQEjhehSuRzFAzczMzMyMMUDXo3A9ChcyQOJ6FK5HoTJA\",\"dtype\":\"float64\",\"order\":\"little\",\"shape\":[36]},\"top\":{\"__ndarray__\":\"MzMzMzMzQ0AzMzMzMzNCQDMzMzMzM0JAMzMzMzMzQkAzMzMzMzNCQDMzMzMzM0NAMzMzMzMzQkAzMzMzMzNCQDMzMzMzM0JAMzMzMzMzQkAzMzMzMzNDQDMzMzMzM0JAMzMzMzMzQkAzMzMzMzNDQDMzMzMzM0JAMzMzMzMzQkAzMzMzMzNDQDMzMzMzM0JAMzMzMzMzQkAzMzMzMzNCQDMzMzMzM0NAMzMzMzMzQkAzMzMzMzNCQDMzMzMzM0JAMzMzMzMzQ0AzMzMzMzNCQDMzMzMzM0JAMzMzMzMzQkAzMzMzMzNDQDMzMzMzM0JAMzMzMzMzQkAzMzMzMzNCQDMzMzMzM0NAMzMzMzMzQkAzMzMzMzNCQDMzMzMzM0JA\",\"dtype\":\"float64\",\"order\":\"little\",\"shape\":[36]},\"velocity\":[110,110,110,110,110,110,110,110,110,110,110,110,110,110,110,110,110,110,110,110,110,110,110,110,110,110,110,110,110,110,110,110,110,110,110,110]},\"selected\":{\"id\":\"1157\"},\"selection_policy\":{\"id\":\"1156\"}},\"id\":\"1142\",\"type\":\"ColumnDataSource\"},{\"attributes\":{},\"id\":\"1120\",\"type\":\"BasicTicker\"},{\"attributes\":{},\"id\":\"1113\",\"type\":\"DataRange1d\"},{\"attributes\":{\"axis_label\":\"pitch (MIDI)\",\"formatter\":{\"id\":\"1154\"},\"major_label_policy\":{\"id\":\"1153\"},\"ticker\":{\"id\":\"1139\"}},\"id\":\"1123\",\"type\":\"LinearAxis\"},{\"attributes\":{\"bottom_units\":\"screen\",\"fill_alpha\":0.5,\"fill_color\":\"lightgrey\",\"left_units\":\"screen\",\"level\":\"overlay\",\"line_alpha\":1.0,\"line_color\":\"black\",\"line_dash\":[4,4],\"line_width\":2,\"right_units\":\"screen\",\"syncable\":false,\"top_units\":\"screen\"},\"id\":\"1132\",\"type\":\"BoxAnnotation\"},{\"attributes\":{},\"id\":\"1157\",\"type\":\"Selection\"},{\"attributes\":{\"axis\":{\"id\":\"1119\"},\"ticker\":null},\"id\":\"1122\",\"type\":\"Grid\"},{\"attributes\":{},\"id\":\"1154\",\"type\":\"BasicTickFormatter\"},{\"attributes\":{\"bottom\":{\"field\":\"bottom\"},\"fill_alpha\":{\"field\":\"fill_alpha\"},\"fill_color\":{\"value\":\"#d53e4f\"},\"left\":{\"field\":\"start_time\"},\"right\":{\"field\":\"end_time\"},\"top\":{\"field\":\"top\"}},\"id\":\"1144\",\"type\":\"Quad\"},{\"attributes\":{\"interval\":12},\"id\":\"1139\",\"type\":\"SingleIntervalTicker\"},{\"attributes\":{\"axis_label\":\"time (sec)\",\"formatter\":{\"id\":\"1152\"},\"major_label_policy\":{\"id\":\"1151\"},\"ticker\":{\"id\":\"1120\"}},\"id\":\"1119\",\"type\":\"LinearAxis\"},{\"attributes\":{\"active_multi\":null,\"tools\":[{\"id\":\"1127\"},{\"id\":\"1128\"},{\"id\":\"1129\"},{\"id\":\"1130\"},{\"id\":\"1131\"}]},\"id\":\"1133\",\"type\":\"Toolbar\"},{\"attributes\":{\"axis\":{\"id\":\"1123\"},\"dimension\":1,\"ticker\":{\"id\":\"1141\"}},\"id\":\"1126\",\"type\":\"Grid\"},{\"attributes\":{\"data_source\":{\"id\":\"1142\"},\"glyph\":{\"id\":\"1144\"},\"hover_glyph\":null,\"muted_glyph\":null,\"nonselection_glyph\":{\"id\":\"1145\"},\"view\":{\"id\":\"1147\"}},\"id\":\"1146\",\"type\":\"GlyphRenderer\"},{\"attributes\":{},\"id\":\"1111\",\"type\":\"DataRange1d\"},{\"attributes\":{\"interval\":12},\"id\":\"1141\",\"type\":\"SingleIntervalTicker\"},{\"attributes\":{\"overlay\":{\"id\":\"1132\"}},\"id\":\"1129\",\"type\":\"BoxZoomTool\"}],\"root_ids\":[\"1110\"]},\"title\":\"Bokeh Application\",\"version\":\"2.3.2\"}};\n",
              "  var render_items = [{\"docid\":\"2a0f3e2a-9748-4503-9180-a24d00673770\",\"root_ids\":[\"1110\"],\"roots\":{\"1110\":\"0bfb19eb-3525-44e0-8ff4-a6b9bf50cc98\"}}];\n",
              "  root.Bokeh.embed.embed_items_notebook(docs_json, render_items);\n",
              "\n",
              "  }\n",
              "  if (root.Bokeh !== undefined) {\n",
              "    embed_document(root);\n",
              "  } else {\n",
              "    var attempts = 0;\n",
              "    var timer = setInterval(function(root) {\n",
              "      if (root.Bokeh !== undefined) {\n",
              "        clearInterval(timer);\n",
              "        embed_document(root);\n",
              "      } else {\n",
              "        attempts++;\n",
              "        if (attempts > 100) {\n",
              "          clearInterval(timer);\n",
              "          console.log(\"Bokeh: ERROR: Unable to run BokehJS code because BokehJS library is missing\");\n",
              "        }\n",
              "      }\n",
              "    }, 10, root)\n",
              "  }\n",
              "})(window);"
            ],
            "application/vnd.bokehjs_exec.v0+json": ""
          },
          "metadata": {
            "tags": [],
            "application/vnd.bokehjs_exec.v0+json": {
              "id": "1110"
            }
          }
        }
      ]
    },
    {
      "cell_type": "code",
      "metadata": {
        "id": "R5TlhcXBspUp"
      },
      "source": [
        "def runNetwork(generator,length):\n",
        "  generator = np.expand_dims(generator, axis=0)\n",
        "  generatedDrum = generator\n",
        "  np.set_printoptions(precision=2)\n",
        "  for i in range(length):\n",
        "    output = model.predict(generator, verbose=0)\n",
        "  \n",
        "    output[output <= 0.5] = 0\n",
        "    output[output > 0.5] = 1\n",
        "    \n",
        "    generatedDrum = np.append(generatedDrum, output)\n",
        "    generator = generatedDrum[-8:]\n",
        "    generator = np.expand_dims(generator, axis=0)\n",
        "  if length == 1:\n",
        "    return generator\n",
        "  return generatedDrum"
      ],
      "execution_count": null,
      "outputs": []
    },
    {
      "cell_type": "code",
      "metadata": {
        "id": "odBJhrxxsLFK"
      },
      "source": [
        "file = open('fixed_points.txt', 'w')\n",
        "unconverging_points = []\n",
        "attractors = []\n",
        "fixed_points = 0\n",
        "fixed_points_list = []\n",
        "for a in range(2):\n",
        "  for b in range(2):\n",
        "    for c in range(2):\n",
        "      for d in range(2):\n",
        "        for e in range(2):\n",
        "          for f in range(2):\n",
        "            for g in range(2):\n",
        "              for h in range(2):\n",
        "                new_result = runNetwork([a,b,c,d,e,f,g,h],1)\n",
        "                result = np.expand_dims([a,b,c,d,e,f,g,h], axis=0)\n",
        "                iterations = 0\n",
        "                while not np.array_equal(new_result,result):\n",
        "                  result = new_result\n",
        "                  if iterations == 100:\n",
        "                    unconverging_points.append([a,b,c,d,e,f,g,h])\n",
        "                    break\n",
        "                  iterations += 1\n",
        "                  new_result = runNetwork(result[0],1)  \n",
        "                if iterations<100:\n",
        "                  print(\"After \", iterations, \" iterations \", [a,b,c,d,e,f,g,h], \" ended up in fixed point \", new_result[0])\n",
        "                  attractors.append(new_result[0])\n",
        "                  fixed_points_list.append(new_result[0])\n",
        "                  file.write(\"After \" + str(iterations) + \" iterations \" + str([a,b,c,d,e,f,g,h])+ \" ended up in fixed point \"+ str(new_result[0]) +'\\n')\n",
        "                #if np.array_equal(np.expand_dims([a,b,c,d,e,f,g,h], axis=0),result):\n",
        "                #  print(\"Fixed point:\" , [a,b,c,d,e,f,g,h], ' | ', result[0])\n",
        "                #  fixed_points+=1\n",
        "                #else:\n",
        "                #  print(\"Not a fixed point: \", [a,b,c,d,e,f,g,h], ' | ', result[0])\n",
        "#print(\"The number of fixed points is: \", fixed_points)\n",
        "for point in unconverging_points:\n",
        "  print(\"No fixed point in 100 iterations for: \", point)\n",
        "  file.write(\"No fixed point in 100 iterations for: \"+ str(point) + '\\n')\n",
        "  result = runNetwork(point,10)\n",
        "  print(result)\n",
        "  results_string = \"\"\n",
        "  for i in range(len(result)):\n",
        "    if i % 8 == 0:\n",
        "      results_string += \"| \"\n",
        "    results_string += str(result[i]) + \" \"\n",
        "  print(results_string)\n",
        "  file.write(results_string + '\\n')\n",
        "file.close()\n",
        "print(len(unconverging_points))"
      ],
      "execution_count": null,
      "outputs": []
    },
    {
      "cell_type": "code",
      "metadata": {
        "id": "KSWvlizPE96p"
      },
      "source": [
        "print(str(attractors))"
      ],
      "execution_count": null,
      "outputs": []
    },
    {
      "cell_type": "code",
      "metadata": {
        "id": "i5rQItE21p4w"
      },
      "source": [
        "#print(str(fixed_points_list))\n",
        "#here we consider each bar as a binary code, which we store in its decimal representation\n",
        "histogram = np.zeros(pow(2,8))\n",
        "test = []\n",
        "for point in fixed_points_list:\n",
        "  point_value = 0\n",
        "  \n",
        "  for i in range(len(point)):\n",
        "    point_value += point[i]*pow(2,(len(point)-i-1))\n",
        "  \n",
        "  histogram[int(point_value)] +=1\n",
        "  test.append(point_value)\n",
        "#print(histogram)\n",
        "fig, ax = pyplot.subplots(figsize =(10, 7))\n",
        "ax.hist(test, bins = list(range(120,260)))\n",
        "pyplot.xlabel(\"Decimal representation of the bars\")\n",
        "pyplot.ylabel(\"Number of times a sequence of bars converges to the bar\")\n",
        "plt.show()\n",
        "\n",
        "# found on https://www.geeksforgeeks.org/python-program-to-covert-decimal-to-binary-number/\n",
        "def decimalToBinary(n):\n",
        "    return bin(n).replace(\"0b\", \"\")\n",
        "\n",
        "i = 0\n",
        "for x in histogram:\n",
        "  if x != 0:\n",
        "    print(\"point \"+str(decimalToBinary(i))+ \" occurred \"+ str(x) + \" times.\")\n",
        "  i+=1"
      ],
      "execution_count": null,
      "outputs": []
    }
  ]
}